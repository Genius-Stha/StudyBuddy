{
 "cells": [
  {
   "cell_type": "code",
   "execution_count": 1,
   "metadata": {},
   "outputs": [],
   "source": [
    "from langchain.text_splitter import RecursiveCharacterTextSplitter"
   ]
  },
  {
   "cell_type": "code",
   "execution_count": 3,
   "metadata": {},
   "outputs": [],
   "source": [
    "# Read text files\n",
    "with open(\"sample.txt\",\"r\") as file:\n",
    "    data = file.read()"
   ]
  },
  {
   "cell_type": "code",
   "execution_count": 4,
   "metadata": {},
   "outputs": [
    {
     "data": {
      "text/plain": [
       "'Computer Network and Security\\nCourse Objective: To understand the concepts of computer networking, functions of different layers and protocols, and know the idea of IPV6 and security. Notes of various chapters of Computer Network compiled by teachers from IOE can be accessed from posts tagged under Computer Network.\\n\\n1. Introduction to Computer Network (5 hours)\\n1.1 Uses of Computer Network\\n1.2 Networking model client/server, p2p, active network\\n1.3 Protocols and Standards\\n1.4 OSI model and TCP/IP model\\n1.5 Comparison of OSI and TCP/IP model\\n1.6 Example network: The Internet, X.25, Frame Relay, Ethernet, VoIP, NGN and MPLS, xDSL.\\n\\n\\n2. Physical Layer (5 hours)\\n2.1 Network monitoring: delay, latency, throughput\\n2.2 Transmission media: Twisted pair, Coaxial, Fiber optic, Line-of-site, Satellite\\n2.3 Multiplexing, Circuit switching, Packet switching, VC Switching, Telecommunication switching system (Networking of Telephone exchanges)\\n2.4 ISDN: Architecture, Interface, and Signaling\\n\\n3. Data Link Layer (5 hours)\\n3.1 Functions of Data link layer\\n3.2 Framing\\n3.3 Error Detection and Corrections,\\n3.4 Flow Control\\n3.5 Examples of Data Link Protocol, HDLC, PPP\\n3.6 The Medium Access Sub-layer\\n3.7 The channel allocation problem\\n3.8 Multiple Access Protocols\\n3.9 Ethernet,\\n3.10 Networks: FDDI, ALOHA, VLAN, CSMA/CD, IEEE 802.3(Ethernet), 802.4(Token Bus), 802.5(Token Ring), and 802.1(Wireless LAN).\\n\\n4. Network Layer (9 hours)\\n4.1 Internetworking &devices: Repeaters, Hubs, Bridges, Switches, Router, Gateway\\n4.2 Addressing: Internet address, classful address\\n4.3 Subnetting\\n4.4 Routing: techniques, static vs. dynamic routing , routing table for classful address\\n4.5 Routing Protocols: RIP, OSPF, BGP, Unicast and multicast routing protocols\\n4.6 Routing algorithms: shortest path algorithm, flooding, distance vector routing, link state routing; Protocols: ARP, RARP, IP, ICMP\\n\\n5. Transport Layer (5 hours)\\n5.1 The transport service: Services provided to the upper layers\\n5.2 Transport protocols: UDP, TCP\\n5.3 Port and Socket\\n5.4 Connection establishment, Connection release\\n5.5 Flow control & buffering\\n5.6 Multiplexing & de-multiplexing\\n5.7 Congestion control algorithm: Token Bucket and Leaky BucketTransport Layer\\n\\n6. Application Layer (5 hours)\\n6.1 Web: HTTP & HTTPS\\n6.2 File Transfer: FTP, PuTTY, WinSCP\\n6.3 Electronic Mail: SMTP, POP3, IMAP\\n6.4 DNS\\n6.5 P2PApplications\\n6.6 Socket Programming\\n6.7 Application server concept: proxy caching, Web/Mail/DNS server optimization\\n6.8 Concept of traffic analyzer: MRTG, PRTG, SNMP, Packet tracer, Wireshark.\\n\\n7. Introduction to IPV6 (4 hours)\\n7.1 IPv6- Advantages\\n7.2 Packet formats\\n7.3 Extension headers\\n7.4 Transition from IPv4 to IPv6: Dual stack, Tunneling, Header Translation\\n7.5 Multicasting\\n\\n8. Network Security (7 hours)\\n8.1 Properties of secure communication\\n8.2 Principles of cryptography: Symmetric Key and Public Key\\n8.3 RSA Algorithm,\\n8.4 Digital Signatures\\n8.5 Securing e-mail (PGP)\\n8.6 Securing TCP connections (SSL)\\n8.7 Network layer security (IPsec, VPN)\\n8.8 Securing wireless LANs (WEP)\\n8.9 Firewalls: Application Gateway and Packet Filtering, and IDS'"
      ]
     },
     "execution_count": 4,
     "metadata": {},
     "output_type": "execute_result"
    }
   ],
   "source": [
    "data"
   ]
  },
  {
   "cell_type": "code",
   "execution_count": 5,
   "metadata": {},
   "outputs": [],
   "source": [
    "def chunk_text(text):\n",
    "    text_splitter = RecursiveCharacterTextSplitter(\n",
    "        separators=[\"\\n\\n\\n\", \"\\n\\n\"],  # Prioritize splitting by paragraphs, then sentences\n",
    "        chunk_size = 500,  # Maximum size of each chunk\n",
    "        chunk_overlap = 0  # Overlap to maintain context between chunks\n",
    "    )\n",
    "    chunks = text_splitter.split_text(text)\n",
    "    return chunks"
   ]
  },
  {
   "cell_type": "code",
   "execution_count": 6,
   "metadata": {},
   "outputs": [],
   "source": [
    "chunked_data = chunk_text(data)"
   ]
  },
  {
   "cell_type": "code",
   "execution_count": 7,
   "metadata": {},
   "outputs": [
    {
     "data": {
      "text/plain": [
       "['Computer Network and Security\\nCourse Objective: To understand the concepts of computer networking, functions of different layers and protocols, and know the idea of IPV6 and security. Notes of various chapters of Computer Network compiled by teachers from IOE can be accessed from posts tagged under Computer Network.',\n",
       " '1. Introduction to Computer Network (5 hours)\\n1.1 Uses of Computer Network\\n1.2 Networking model client/server, p2p, active network\\n1.3 Protocols and Standards\\n1.4 OSI model and TCP/IP model\\n1.5 Comparison of OSI and TCP/IP model\\n1.6 Example network: The Internet, X.25, Frame Relay, Ethernet, VoIP, NGN and MPLS, xDSL.',\n",
       " '2. Physical Layer (5 hours)\\n2.1 Network monitoring: delay, latency, throughput\\n2.2 Transmission media: Twisted pair, Coaxial, Fiber optic, Line-of-site, Satellite\\n2.3 Multiplexing, Circuit switching, Packet switching, VC Switching, Telecommunication switching system (Networking of Telephone exchanges)\\n2.4 ISDN: Architecture, Interface, and Signaling',\n",
       " '3. Data Link Layer (5 hours)\\n3.1 Functions of Data link layer\\n3.2 Framing\\n3.3 Error Detection and Corrections,\\n3.4 Flow Control\\n3.5 Examples of Data Link Protocol, HDLC, PPP\\n3.6 The Medium Access Sub-layer\\n3.7 The channel allocation problem\\n3.8 Multiple Access Protocols\\n3.9 Ethernet,\\n3.10 Networks: FDDI, ALOHA, VLAN, CSMA/CD, IEEE 802.3(Ethernet), 802.4(Token Bus), 802.5(Token Ring), and 802.1(Wireless LAN).',\n",
       " '4. Network Layer (9 hours)\\n4.1 Internetworking &devices: Repeaters, Hubs, Bridges, Switches, Router, Gateway\\n4.2 Addressing: Internet address, classful address\\n4.3 Subnetting\\n4.4 Routing: techniques, static vs. dynamic routing , routing table for classful address\\n4.5 Routing Protocols: RIP, OSPF, BGP, Unicast and multicast routing protocols\\n4.6 Routing algorithms: shortest path algorithm, flooding, distance vector routing, link state routing; Protocols: ARP, RARP, IP, ICMP',\n",
       " '5. Transport Layer (5 hours)\\n5.1 The transport service: Services provided to the upper layers\\n5.2 Transport protocols: UDP, TCP\\n5.3 Port and Socket\\n5.4 Connection establishment, Connection release\\n5.5 Flow control & buffering\\n5.6 Multiplexing & de-multiplexing\\n5.7 Congestion control algorithm: Token Bucket and Leaky BucketTransport Layer',\n",
       " '6. Application Layer (5 hours)\\n6.1 Web: HTTP & HTTPS\\n6.2 File Transfer: FTP, PuTTY, WinSCP\\n6.3 Electronic Mail: SMTP, POP3, IMAP\\n6.4 DNS\\n6.5 P2PApplications\\n6.6 Socket Programming\\n6.7 Application server concept: proxy caching, Web/Mail/DNS server optimization\\n6.8 Concept of traffic analyzer: MRTG, PRTG, SNMP, Packet tracer, Wireshark.',\n",
       " '7. Introduction to IPV6 (4 hours)\\n7.1 IPv6- Advantages\\n7.2 Packet formats\\n7.3 Extension headers\\n7.4 Transition from IPv4 to IPv6: Dual stack, Tunneling, Header Translation\\n7.5 Multicasting',\n",
       " '8. Network Security (7 hours)\\n8.1 Properties of secure communication\\n8.2 Principles of cryptography: Symmetric Key and Public Key\\n8.3 RSA Algorithm,\\n8.4 Digital Signatures\\n8.5 Securing e-mail (PGP)\\n8.6 Securing TCP connections (SSL)\\n8.7 Network layer security (IPsec, VPN)\\n8.8 Securing wireless LANs (WEP)\\n8.9 Firewalls: Application Gateway and Packet Filtering, and IDS']"
      ]
     },
     "execution_count": 7,
     "metadata": {},
     "output_type": "execute_result"
    }
   ],
   "source": [
    "chunked_data"
   ]
  },
  {
   "cell_type": "code",
   "execution_count": 11,
   "metadata": {},
   "outputs": [
    {
     "data": {
      "text/plain": [
       "'1. Introduction to Computer Network (5 hours)\\n1.1 Uses of Computer Network\\n1.2 Networking model client/server, p2p, active network\\n1.3 Protocols and Standards\\n1.4 OSI model and TCP/IP model\\n1.5 Comparison of OSI and TCP/IP model\\n1.6 Example network: The Internet, X.25, Frame Relay, Ethernet, VoIP, NGN and MPLS, xDSL.'"
      ]
     },
     "execution_count": 11,
     "metadata": {},
     "output_type": "execute_result"
    }
   ],
   "source": [
    "chunked_data[1]"
   ]
  },
  {
   "cell_type": "code",
   "execution_count": null,
   "metadata": {},
   "outputs": [],
   "source": [
    "import json\n",
    "# Reading api_key\n",
    "class Variables:\n",
    "    @staticmethod\n",
    "    def get_variable(var_name):\n",
    "        try:\n",
    "            with open(\"config.cfg\") as file:\n",
    "                file_content = json.loads(file.read())\n",
    "                return file_content[var_name]\n",
    "        except Exception as e:\n",
    "            print(f\"[Error]: {e}\")"
   ]
  }
 ],
 "metadata": {
  "kernelspec": {
   "display_name": "myenv",
   "language": "python",
   "name": "python3"
  },
  "language_info": {
   "codemirror_mode": {
    "name": "ipython",
    "version": 3
   },
   "file_extension": ".py",
   "mimetype": "text/x-python",
   "name": "python",
   "nbconvert_exporter": "python",
   "pygments_lexer": "ipython3",
   "version": "3.13.0"
  }
 },
 "nbformat": 4,
 "nbformat_minor": 2
}
